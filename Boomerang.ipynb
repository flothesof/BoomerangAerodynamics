{
 "metadata": {
  "name": ""
 },
 "nbformat": 3,
 "nbformat_minor": 0,
 "worksheets": [
  {
   "cells": [
    {
     "cell_type": "code",
     "collapsed": false,
     "input": [
      "%pylab inline"
     ],
     "language": "python",
     "metadata": {},
     "outputs": [
      {
       "output_type": "stream",
       "stream": "stdout",
       "text": [
        "Populating the interactive namespace from numpy and matplotlib\n"
       ]
      }
     ],
     "prompt_number": 1
    },
    {
     "cell_type": "heading",
     "level": 1,
     "metadata": {},
     "source": [
      "R\u00e9f\u00e9rences bibliographiques"
     ]
    },
    {
     "cell_type": "markdown",
     "metadata": {},
     "source": [
      "[1] Xavier Rog\u00e9 et Paul Narchi - Le vol du boomerang - Rapport de TIPE pour le concours Inter ENS 2009, Fili\u00e8re MP"
     ]
    },
    {
     "cell_type": "heading",
     "level": 1,
     "metadata": {},
     "source": [
      "Rep\u00e9rage et syst\u00e8mes de coordonn\u00e9es"
     ]
    },
    {
     "cell_type": "markdown",
     "metadata": {},
     "source": [
      "Dans cette \u00e9tude, le boomerang est mod\u00e9lis\u00e9 comme un solide ind\u00e9formable. De par la cin\u00e9matique du boomerang, nous consid\u00e9rons qu'il est suffisant pour rep\u00e9rer compl\u00e8tement le boomerang de le d\u00e9crire par deux variables :\n",
      "\n",
      "- la position d'un point de r\u00e9f\u00e9rence (on prendra comme r\u00e9f\u00e9rence le centre de gravit\u00e9 du boomerang dans la suite)\n",
      "- le plan de rotation du boomerang\n",
      "\n",
      "Autrement dit, nous utiliserons les variables suivantes dans notre \u00e9tude :\n",
      "\n",
      "- le vecteur position $\\vec{OG}$, soit trois coordonn\u00e9es de l'espace $(x, y, z)$\n",
      "- le vecteur unitaire normal au plan de rotation du boomerang $\\vec{n}$, soit trois coordonn\u00e9es de l'espace $(n_x, n_y, n_z)$\n",
      "\n",
      "Le syst\u00e8me d'axe local au boomerang sera constitu\u00e9 des trois vecteurs suivants : \n",
      "\n",
      "- le vecteur unitaire qui est colin\u00e9aire au vecteur vitesse : $\\vec{e_x'}$\n",
      "- le vecteur unitaire qui d\u00e9finit le plan du boomerang et donc son axe de rotation : $\\vec{e_z'}$\n",
      "- le vecteur unitaire obtenu par produit vectoriel des deux pr\u00e9c\u00e9dents (de $z'$ avec $x'$ en r\u00e9alit\u00e9) : $\\vec{e_y'}$"
     ]
    },
    {
     "cell_type": "heading",
     "level": 1,
     "metadata": {},
     "source": [
      "\u00c9quations utilis\u00e9es"
     ]
    },
    {
     "cell_type": "markdown",
     "metadata": {},
     "source": [
      "On utilise les \u00e9quations de la m\u00e9canique du solide ind\u00e9formable. Celles-ci se d\u00e9clinent en deux \u00e9quations :\n",
      "\n",
      "- l'\u00e9quation des forces (semblable \u00e0 la m\u00e9canique du point)\n",
      "- l'\u00e9quation des moments \n",
      "\n",
      "Nous nous inspirons de la mise en \u00e9quation du TIPE.\n",
      "\n",
      "L'\u00e9quation des forces permet d'obtenir la trajectoire du boomerang en terme de position alors que l'\u00e9quation des moments permet d'\u00e9crire l'\u00e9volution du plan de rotation du boomerang au cours de la propagation."
     ]
    },
    {
     "cell_type": "heading",
     "level": 2,
     "metadata": {},
     "source": [
      "\u00c9quation des forces"
     ]
    },
    {
     "cell_type": "markdown",
     "metadata": {},
     "source": [
      "$$\n",
      "\\frac{d \\vec{p}}{dt} = \\sum \\vec{F_{ext}}\n",
      "$$"
     ]
    },
    {
     "cell_type": "heading",
     "level": 2,
     "metadata": {},
     "source": [
      "\u00c9quation du moment dynamique"
     ]
    },
    {
     "cell_type": "markdown",
     "metadata": {},
     "source": [
      "$$\n",
      "\\frac{d \\vec{\\sigma_G}}{dt} = \\sum \\vec{ M}(\\vec{F_{ext}) }\n",
      "$$"
     ]
    },
    {
     "cell_type": "heading",
     "level": 1,
     "metadata": {},
     "source": [
      "Liste des sous-probl\u00e8mes \u00e0 r\u00e9soudre"
     ]
    },
    {
     "cell_type": "markdown",
     "metadata": {},
     "source": [
      "On constate qu'il y a un certain nombre de sous-probl\u00e8mes \u00e0 r\u00e9soudre quand on s'attaque \u00e0 la mod\u00e9lisation du boomerang. En particulier, on distingue :\n",
      "\n",
      "- calcul de l'intertie de rotation du boomerang (d\u00e9pend du profil, peut \u00eatre simplifi\u00e9 en contributions d'objets \u00e9l\u00e9mentaires de type \"p\u00e2le\")\n",
      "- calcul exact de la portance et de la tra\u00een\u00e9e avec la m\u00e9thode des potentiels (Joukowski)\n",
      "- calcul du point d'application des forces a\u00e9rodynamiques r\u00e9sultantes\n",
      "- estimation de param\u00e8tres r\u00e9alistes pour la simulation (par exemple \u00e0 l'aide de vid\u00e9os, comme dans le TIPE)"
     ]
    },
    {
     "cell_type": "heading",
     "level": 1,
     "metadata": {},
     "source": [
      "Algorithme de r\u00e9solution du probl\u00e8me"
     ]
    },
    {
     "cell_type": "markdown",
     "metadata": {},
     "source": [
      "    A chaque pas de temps\n",
      "    \n",
      "        R\u00e9soudre l'\u00e9quation des forces : en d\u00e9duire l'acc\u00e9l\u00e9ration, puis la variation de vitesse, puis la variation de position (en translation)\n",
      "    \n",
      "        R\u00e9soudre l'\u00e9quation du moment : en d\u00e9duire la variation angulaire de la direction du boomerang"
     ]
    },
    {
     "cell_type": "markdown",
     "metadata": {},
     "source": [
      "Note to self : on sent qu'on va avoir des probl\u00e8mes \u00e0 cause de la r\u00e9solution coupl\u00e9e du syst\u00e8me : il faut examiner si on peut, ou non, d\u00e9coupler les \u00e9quations."
     ]
    },
    {
     "cell_type": "heading",
     "level": 1,
     "metadata": {},
     "source": [
      "Forces en pr\u00e9sence"
     ]
    },
    {
     "cell_type": "heading",
     "level": 2,
     "metadata": {},
     "source": [
      "La force de portance"
     ]
    },
    {
     "cell_type": "markdown",
     "metadata": {},
     "source": [
      "En premi\u00e8re approximation, la force de portance est d\u00e9finie par rapport "
     ]
    },
    {
     "cell_type": "heading",
     "level": 2,
     "metadata": {},
     "source": [
      "R\u00e9solution de l'\u00e9quation du moment"
     ]
    },
    {
     "cell_type": "markdown",
     "metadata": {},
     "source": [
      "On calcule tout d'abord le moment cin\u00e9tique du boomerang :\n",
      "\n",
      "$$\n",
      "\\vec{\\sigma_G} = J \\: \\omega_z \\: \\vec{e_z'}\n",
      "$$\n",
      "\n",
      "La d\u00e9riv\u00e9e de cette \u00e9quation par rapport au temps s'\u00e9crit : \n",
      "$$\n",
      "\\frac{d}{dt} \\vec{\\sigma_G} = J \\frac{d \\omega_z}{dt} \\vec{e_z'} + J \\omega_z \\frac{d \\vec{e_z'}}{dt}\n",
      "$$\n",
      "\n",
      "On suppose que la variation de vitesse de rotation est nulle. On obtient donc : \n",
      "$$\n",
      "\\frac{d}{dt} \\vec{\\sigma_G} = J \\omega_z \\frac{d \\vec{e_z'}}{dt}\n",
      "$$\n",
      "\n",
      "Or, le th\u00e9or\u00e8me du moment cin\u00e9tique stipule que la quantit\u00e9 de l'\u00e9quation pr\u00e9c\u00e9dente est \u00e9gale au moment des forces ext\u00e9rieures. Soit :\n",
      "\n",
      "$$\n",
      "J \\omega_z \\frac{d \\vec{e_z'}}{dt} = - L \\vec{e_y'} \\wedge F \\vec{e_z'} = - L \\: F \\vec{e_x'} \n",
      "$$"
     ]
    },
    {
     "cell_type": "markdown",
     "metadata": {},
     "source": [
      "\n"
     ]
    },
    {
     "cell_type": "markdown",
     "metadata": {},
     "source": [
      "En int\u00e9grant l'\u00e9quation pr\u00e9c\u00e9dente, on peut donc facilement trouver la variation d'orientation du boomerang au cours du temps."
     ]
    },
    {
     "cell_type": "code",
     "collapsed": false,
     "input": [
      "v = array([1., 0., 0.])\n",
      "x = array([0., 0., 0.])\n",
      "n = array([0., 1., 0.])\n",
      "L = 0.1\n",
      "F = 1\n",
      "omega_z = 10 # tours / s\n",
      "J = 0.2 * .2 ** 2 # m * L^2\n",
      "\n",
      "dt = 0.001"
     ],
     "language": "python",
     "metadata": {},
     "outputs": [],
     "prompt_number": 15
    },
    {
     "cell_type": "code",
     "collapsed": false,
     "input": [
      "def calc_axes(v, n):\n",
      "    e_xp = v / norm(v)\n",
      "    e_zp = n / norm(n)\n",
      "    e_yp = cross(e_zp, e_xp)\n",
      "    return (e_xp, e_yp, e_zp)"
     ],
     "language": "python",
     "metadata": {},
     "outputs": [],
     "prompt_number": 16
    },
    {
     "cell_type": "code",
     "collapsed": false,
     "input": [
      "#draw a vector\n",
      "from matplotlib.patches import FancyArrowPatch\n",
      "from mpl_toolkits.mplot3d import proj3d\n",
      "\n",
      "class Arrow3D(FancyArrowPatch):\n",
      "    def __init__(self, xs, ys, zs, *args, **kwargs):\n",
      "        FancyArrowPatch.__init__(self, (0,0), (0,0), *args, **kwargs)\n",
      "        self._verts3d = xs, ys, zs\n",
      "\n",
      "    def draw(self, renderer):\n",
      "        xs3d, ys3d, zs3d = self._verts3d\n",
      "        xs, ys, zs = proj3d.proj_transform(xs3d, ys3d, zs3d, renderer.M)\n",
      "        self.set_positions((xs[0],ys[0]),(xs[1],ys[1]))\n",
      "        FancyArrowPatch.draw(self, renderer)\n",
      "\n",
      "class Arrow3D_centered(Arrow3D):\n",
      "    def __init__(self, xs, ys, zs, *args, **kwargs):\n",
      "        Arrow3D.__init__(self, [0, xs], [0, ys], [0, zs])\n",
      "    "
     ],
     "language": "python",
     "metadata": {},
     "outputs": [],
     "prompt_number": 33
    },
    {
     "cell_type": "code",
     "collapsed": false,
     "input": [
      "import matplotlib.pyplot as plt\n",
      "from mpl_toolkits.mplot3d import Axes3D\n",
      "fig = plt.figure()\n",
      "ax = fig.add_subplot(111, projection='3d')\n",
      "a = Arrow3D([0,1],[0,1],[0,1], mutation_scale=20, lw=1, arrowstyle=\"-|>\", color=\"k\")\n",
      "#ax.add_artist(a)\n",
      "b = Arrow3D_centered(1, 1, .5, mutation_scale=20, lw=4, arrowstyle=\"-|>\", color='r')\n",
      "ax.add_artist(b)"
     ],
     "language": "python",
     "metadata": {},
     "outputs": [
      {
       "metadata": {},
       "output_type": "pyout",
       "prompt_number": 38,
       "text": [
        "<__main__.Arrow3D_centered at 0x6c81a50>"
       ]
      },
      {
       "metadata": {},
       "output_type": "display_data",
       "png": "[encoded data removed]",
       "text": [
        "<matplotlib.figure.Figure at 0x6c91af0>"
       ]
      }
     ],
     "prompt_number": 38
    },
    {
     "cell_type": "code",
     "collapsed": false,
     "input": [
      "fig = plt.figure()\n",
      "ax = fig.add_subplot(111, projection='3d')\n",
      "\n",
      "for i in range(1000):\n",
      "    (e_xp, e_yp, e_zp) = calc_axes(v, n)\n",
      "    dn = - L * F / J / omega_z * dt * e_xp\n",
      "    n += dn\n",
      "    if i % 100:\n",
      "        ax.add_artist(Arrow3D_centered(n[0], n[1], n[2]))"
     ],
     "language": "python",
     "metadata": {},
     "outputs": [
      {
       "metadata": {},
       "output_type": "display_data",
       "png": "[encoded data removed]",
       "text": [
        "<matplotlib.figure.Figure at 0x6da43f0>"
       ]
      }
     ],
     "prompt_number": 41
    },
    {
     "cell_type": "code",
     "collapsed": false,
     "input": [],
     "language": "python",
     "metadata": {},
     "outputs": []
    }
   ],
   "metadata": {}
  }
 ]
}