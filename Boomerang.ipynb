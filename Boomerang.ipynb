{
 "metadata": {
  "name": ""
 },
 "nbformat": 3,
 "nbformat_minor": 0,
 "worksheets": [
  {
   "cells": [
    {
     "cell_type": "code",
     "collapsed": false,
     "input": [
      "%pylab inline"
     ],
     "language": "python",
     "metadata": {},
     "outputs": [
      {
       "output_type": "stream",
       "stream": "stdout",
       "text": [
        "Populating the interactive namespace from numpy and matplotlib\n"
       ]
      }
     ],
     "prompt_number": 1
    },
    {
     "cell_type": "heading",
     "level": 1,
     "metadata": {},
     "source": [
      "R\u00e9f\u00e9rences bibliographiques"
     ]
    },
    {
     "cell_type": "markdown",
     "metadata": {},
     "source": [
      "[1]: Xavier Rog\u00e9 et Paul Narchi - Le vol du boomerang - Rapport de TIPE pour le concours Inter ENS 2009, Fili\u00e8re MP \"TIPE\""
     ]
    },
    {
     "cell_type": "heading",
     "level": 1,
     "metadata": {},
     "source": [
      "Rep\u00e9rage et syst\u00e8mes de coordonn\u00e9es"
     ]
    },
    {
     "cell_type": "markdown",
     "metadata": {},
     "source": [
      "Dans cette \u00e9tude, le boomerang est mod\u00e9lis\u00e9 comme un solide ind\u00e9formable. De par la cin\u00e9matique du boomerang, nous consid\u00e9rons qu'il est suffisant pour rep\u00e9rer compl\u00e8tement le boomerang de le d\u00e9crire par deux variables :\n",
      "\n",
      "- la position d'un point de r\u00e9f\u00e9rence (on prendra comme r\u00e9f\u00e9rence le centre de gravit\u00e9 du boomerang dans la suite)\n",
      "- le plan de rotation du boomerang\n",
      "\n",
      "Autrement dit, nous utiliserons les variables suivantes dans notre \u00e9tude :\n",
      "\n",
      "- le vecteur position $\\vec{OM}$, soit trois coordonn\u00e9es de l'espace $(x, y, z)$\n",
      "- le vecteur unitaire normal au plan de rotation du boomerang $\\vec{n}$, soit trois coordonn\u00e9es de l'espace $(n_x, n_y, n_z)$"
     ]
    },
    {
     "cell_type": "heading",
     "level": 1,
     "metadata": {},
     "source": [
      "\u00c9quations utilis\u00e9es"
     ]
    },
    {
     "cell_type": "markdown",
     "metadata": {},
     "source": [
      "On utilise les \u00e9quations de la m\u00e9canique du solide ind\u00e9formable. Celles-ci se d\u00e9clinent en deux \u00e9quations :\n",
      "\n",
      "- l'\u00e9quation des forces (semblable \u00e0 la m\u00e9canique du point)\n",
      "- l'\u00e9quation des moments \n",
      "\n",
      "Nous nous inspirons de la mise en \u00e9quation du TIPE.\n",
      "\n",
      "L'\u00e9quation des forces permet d'obtenir la trajectoire du boomerang en terme de position alors que l'\u00e9quation des moments permet d'\u00e9crire l'\u00e9volution du plan de rotation du boomerang au cours de la propagation."
     ]
    },
    {
     "cell_type": "heading",
     "level": 2,
     "metadata": {},
     "source": [
      "\u00c9quation des forces"
     ]
    },
    {
     "cell_type": "markdown",
     "metadata": {},
     "source": [
      "$$\n",
      "\\frac{d \\vec{p}}{dt} = \\sum \\vec{F_{ext}}\n",
      "$$"
     ]
    },
    {
     "cell_type": "heading",
     "level": 2,
     "metadata": {},
     "source": [
      "\u00c9quation du moment dynamique"
     ]
    },
    {
     "cell_type": "markdown",
     "metadata": {},
     "source": [
      "$$\n",
      "\\frac{d \\vec{\\sigma_G}}{dt} = \\sum \\vec{ M}(\\vec{F_{ext}) }\n",
      "$$"
     ]
    }
   ],
   "metadata": {}
  }
 ]
}